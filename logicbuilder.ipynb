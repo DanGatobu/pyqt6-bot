{
 "cells": [
  {
   "cell_type": "code",
   "execution_count": 1,
   "metadata": {},
   "outputs": [
    {
     "name": "stderr",
     "output_type": "stream",
     "text": [
      "C:\\Users\\DELL\\AppData\\Local\\Temp\\ipykernel_21920\\852437405.py:3: DeprecationWarning: \n",
      "Pyarrow will become a required dependency of pandas in the next major release of pandas (pandas 3.0),\n",
      "(to allow more performant data types, such as the Arrow string type, and better interoperability with other libraries)\n",
      "but was not found to be installed on your system.\n",
      "If this would cause problems for you,\n",
      "please provide us feedback at https://github.com/pandas-dev/pandas/issues/54466\n",
      "        \n",
      "  import pandas as pd\n"
     ]
    }
   ],
   "source": [
    "import datetime\n",
    "import numpy as np\n",
    "import pandas as pd\n",
    "import MetaTrader5 as mt5\n",
    "import schedule\n",
    "import time as tt"
   ]
  },
  {
   "cell_type": "code",
   "execution_count": 2,
   "metadata": {},
   "outputs": [],
   "source": [
    "def fget_data(currency,num_c):\n",
    "    mt5.initialize()\n",
    "    ohlc_data = pd.DataFrame(mt5.copy_rates_from_pos(currency, mt5.TIMEFRAME_M15, 0,num_c))\n",
    "    ohlc_data.rename(columns={'open': 'Open', 'high': 'High', 'low': 'Low', 'close': 'Close'}, inplace=True)\n",
    "    ohlc_data.dropna(inplace=True)\n",
    "\n",
    "    return ohlc_data\n",
    "\n",
    "def distance_checker(price,value,lim):\n",
    "    plh=price-value\n",
    "    plh=abs(plh)\n",
    "    if plh >lim:\n",
    "        return 1\n",
    "    else:\n",
    "        return 0\n",
    "    \n",
    "def find_status(data,size):\n",
    "    data['AbsDiff'] = abs(data['Close'] - data['Open'])\n",
    "\n",
    "# Find the maximum value among the calculated differences\n",
    "    max_diff = data['AbsDiff'].max()\n",
    "    if max_diff>size:\n",
    "        return 1\n",
    "    else:\n",
    "        return 0\n",
    "    \n",
    "def find_sl(data,tp):\n",
    "    if tp==-1:\n",
    "        max_value = data['High'].max()\n",
    "        return max_value\n",
    "    else:\n",
    "        min_value = data['Low'].min()\n",
    "        return min_value   \n"
   ]
  },
  {
   "cell_type": "code",
   "execution_count": 3,
   "metadata": {},
   "outputs": [],
   "source": [
    "begin_max_value=2045.76\n",
    "begin_min_value=2042.76\n"
   ]
  },
  {
   "cell_type": "code",
   "execution_count": 4,
   "metadata": {},
   "outputs": [],
   "source": [
    "def get_first_values():\n",
    "    global begin_max_value\n",
    "    global begin_min_value\n",
    "    nowd=fget_data('GOLD',110)\n",
    "    nowd['mtime']=pd.to_datetime(nowd['time'],unit='s')\n",
    "    last_row = nowd.iloc[-2]\n",
    "    target_date = last_row['mtime'].date()\n",
    "    print('activated')\n",
    "    # Filter the DataFrame for the specific day\n",
    "    day_data = nowd[nowd['mtime'].dt.date == target_date]\n",
    "\n",
    "    # Find the maximum and minimum points for the day\n",
    "    max_price = day_data['High'].max()\n",
    "    min_price = day_data['Low'].min()\n",
    "    begin_max_value = max_price\n",
    "    begin_min_value = min_price\n",
    "    \n",
    "# get_first_values()\n",
    "def update_min_max():\n",
    "    global begin_max_value\n",
    "    global begin_min_value\n",
    "    nowd=fget_data('GOLD',110)\n",
    "    nowd['mtime']=pd.to_datetime(nowd['time'],unit='s')\n",
    "    last_row = nowd.iloc[-2]\n",
    "    minv=begin_min_value\n",
    "    maxv=begin_max_value\n",
    "    price=last_row['Close']\n",
    "    if price>maxv:\n",
    "        begin_max_value=last_row['High']\n",
    "        print('updated upside')\n",
    "    elif price<minv:\n",
    "        print('updated downside')\n",
    "        begin_min_value=last_row['Low']\n",
    "        \n",
    "    "
   ]
  },
  {
   "cell_type": "code",
   "execution_count": 5,
   "metadata": {},
   "outputs": [],
   "source": [
    "def agent1(maxdistance,candlesize,df_profit,lotsize,deviat):\n",
    "    global begin_max_value\n",
    "    global begin_min_value\n",
    "    nowd=fget_data('GOLD',110)\n",
    "    nowd['mtime']=pd.to_datetime(nowd['time'],unit='s')\n",
    "    last_row = nowd.iloc[-2]\n",
    "    pg=last_row['mtime'].time()\n",
    "\n",
    "    if datetime.time(3, 0) <= pg <= datetime.time(16, 30):\n",
    "        \n",
    "        maxv=begin_max_value\n",
    "                # print(maxv)\n",
    "        minv=begin_min_value\n",
    "        pos_info = mt5.positions_total()\n",
    "        if pos_info is None:\n",
    "            pass\n",
    "\n",
    "        # Check if there are open positions or active orders\n",
    "        elif pos_info==0:\n",
    "            price=last_row['Close']\n",
    "            if price>maxv:\n",
    "                    if distance_checker(price,maxv,maxdistance)==0:\n",
    "                        begin_max_value=last_row['High']\n",
    "                    elif distance_checker(price,maxv,maxdistance)==1:\n",
    "                        # print('i am here 4')\n",
    "                        win_data=nowd.tail(6)\n",
    "                        if find_status(win_data,candlesize):\n",
    "\n",
    "                            sl_data=nowd.tail(3)\n",
    "                            sl=int(find_sl(sl_data,1))-1.5\n",
    "                            tp=price+df_profit\n",
    "                            begin_max_value=last_row['High']\n",
    "                            lot=lotsize\n",
    "                            deviation=deviat\n",
    "                            request = {\"action\": mt5.TRADE_ACTION_DEAL,\"symbol\": 'GOLD',\"volume\": lot,\"type\": mt5.ORDER_TYPE_BUY,\"price\": price,\"sl\": sl,\"tp\": tp,\"deviation\": deviation,\"magic\": 20022,\"comment\": \"python script open\",\"type_time\": mt5.ORDER_TIME_GTC,\"type_filling\": mt5.ORDER_FILLING_IOC,}\n",
    "                            mt5.order_send(request)\n",
    "\n",
    "            elif price<minv:\n",
    "                if distance_checker(price,minv,maxdistance)==0:\n",
    "                    begin_min_value=last_row['Low']\n",
    "\n",
    "                elif distance_checker(price,maxv,maxdistance)==1:\n",
    "                    # print('i am here 4')\n",
    "                    win_data=nowd.tail(6)\n",
    "                    if find_status(win_data,candlesize):\n",
    "\n",
    "                        sl_data=nowd.tail(3)\n",
    "                        sl=int(find_sl(sl_data,-1))+1.5\n",
    "                        tp=price-df_profit\n",
    "                        begin_min_value=last_row['Low']\n",
    "                        lot=lotsize\n",
    "                        deviation=deviat\n",
    "                        request = {\"action\": mt5.TRADE_ACTION_DEAL,\"symbol\": 'GOLD',\"volume\": lot,\"type\": mt5.ORDER_TYPE_SELL,\"price\": price,\"sl\": sl,\"tp\": tp,\"deviation\": deviation,\"magic\": 20022,\"comment\": \"python script open\",\"type_time\": mt5.ORDER_TIME_GTC,\"type_filling\": mt5.ORDER_FILLING_IOC,}\n",
    "                        mt5.order_send(request)\n",
    "\n",
    "\n"
   ]
  },
  {
   "cell_type": "code",
   "execution_count": 6,
   "metadata": {},
   "outputs": [],
   "source": [
    "def closetrade():\n",
    "    nowd=fget_data('GOLD',110)\n",
    "    pos_info = mt5.positions_total()\n",
    "    if pos_info is None:\n",
    "        pass\n",
    "    elif pos_info>1:\n",
    "        for position in mt5.positions_get():\n",
    "            for position in mt5.positions_get():\n",
    "                if position.symbol.startswith('GOLD'):\n",
    "                    if position.profit>5:\n",
    "                 # Your existing code\n",
    "                        order_type = position.type\n",
    "                        symbol = position.symbol\n",
    "                        volume = position.volume\n",
    "                        if order_type == mt5.ORDER_TYPE_BUY:\n",
    "                            order_type = mt5.ORDER_TYPE_SELL\n",
    "                            price = mt5.symbol_info_tick(symbol).bid\n",
    "                        else:\n",
    "                            order_type = mt5.ORDER_TYPE_BUY\n",
    "                            price = mt5.symbol_info_tick(symbol).ask\n",
    "\n",
    "                        close_request = {\n",
    "                            \"action\": mt5.TRADE_ACTION_DEAL,\n",
    "                            \"symbol\": symbol,\n",
    "                            \"volume\": float(volume),\n",
    "                            \"type\": order_type,\n",
    "                            \"position\": position.ticket,\n",
    "                            \"price\": price,\n",
    "                            \"magic\": 20022,\n",
    "                            \"comment\": \"Close trade\",\n",
    "                            \"type_time\": mt5.ORDER_TIME_GTC,\n",
    "                            \"type_filling\": mt5.ORDER_FILLING_IOC,\n",
    "                        }\n",
    "\n",
    "                        mt5.order_send(close_request)\n",
    "\n",
    "                \n",
    "                    \n",
    "\n",
    "    "
   ]
  },
  {
   "cell_type": "code",
   "execution_count": 18,
   "metadata": {},
   "outputs": [
    {
     "name": "stdout",
     "output_type": "stream",
     "text": [
      "TradePosition(ticket=202772803, time=1707504962, time_msc=1707504962322, time_update=1707504962, time_update_msc=1707504962322, type=0, magic=0, identifier=202772803, reason=0, volume=0.01, price_open=2021.18, sl=0.0, tp=0.0, price_current=2021.19, swap=0.0, profit=0.01, symbol='GOLD', comment='', external_id='')\n",
      "0.01\n"
     ]
    }
   ],
   "source": [
    "def liveprof(self):\n",
    "    nowd=fget_data('GOLD',110)\n",
    "    pos_info = mt5.positions_total()\n",
    "\n",
    "    for position in mt5.positions_get():\n",
    "        \n",
    "        \n",
    "        if position.symbol.startswith('GOLD'):\n",
    "            return position.profit\n",
    "            \n",
    "liveprof()"
   ]
  },
  {
   "cell_type": "code",
   "execution_count": null,
   "metadata": {},
   "outputs": [],
   "source": [
    "startdate=0\n",
    "todaydate=datetime.date.today()\n",
    "mt5.initialize()\n",
    "ac='305174435'\n",
    "lastweek=todaydate-datetime.timedelta(days=100)\n",
    "print(lastweek)\n",
    "# hd=fget_data('GOLD',110)\n",
    "h=mt5.history_deals_get(lastweek,datetime.date.today())\n",
    "print(h)\n",
    "mt5.last_error()"
   ]
  },
  {
   "cell_type": "code",
   "execution_count": 3,
   "metadata": {},
   "outputs": [
    {
     "name": "stdout",
     "output_type": "stream",
     "text": [
      "1698782330.851261\n"
     ]
    }
   ],
   "source": [
    "import datetime\n",
    "from datetime import timedelta\n",
    "import MetaTrader5 as mt5\n",
    "\n",
    "today_date = datetime.datetime.today()\n",
    "last_week = today_date - timedelta(days=100)\n",
    "\n",
    "# Convert to Unix timestamps\n",
    "last_week_timestamp = datetime.datetime.timestamp(last_week)\n",
    "today_timestamp = datetime.datetime.timestamp(today_date)\n",
    "print(last_week_timestamp)\n",
    "\n",
    "history_deals = mt5.history_deals_get(last_week_timestamp, today_timestamp, 'GOLD')\n"
   ]
  },
  {
   "cell_type": "code",
   "execution_count": null,
   "metadata": {},
   "outputs": [],
   "source": [
    "print(history_deals)\n",
    "print(mt5.last_error()) "
   ]
  },
  {
   "cell_type": "code",
   "execution_count": null,
   "metadata": {},
   "outputs": [],
   "source": [
    "today_date = datetime.datetime.now()\n",
    "# last_week = today_date - datetime.timedelta(days=100)\n",
    "nm=datetime.datetime(2024, 1, 1)\n",
    "\n",
    "symbol = 'GOLD'\n",
    "\n",
    "\n",
    "\n",
    "# Try to get history deals\n",
    "history_deals = mt5.history_deals_get(nm, today_date, symbol=symbol)\n",
    "\n",
    "# Print history deals\n",
    "print(\"History Deals:\")\n",
    "print(history_deals)\n",
    "print(type(history_deals))\n",
    "\n"
   ]
  },
  {
   "cell_type": "code",
   "execution_count": 4,
   "metadata": {},
   "outputs": [],
   "source": [
    "def get_balance():\n",
    "    hd=fget_data('GOLD',110)\n",
    "    account_info = mt5.account_info()\n",
    "    balance = account_info.balance\n",
    "    return balance\n",
    "\n"
   ]
  },
  {
   "cell_type": "code",
   "execution_count": 5,
   "metadata": {},
   "outputs": [],
   "source": [
    "def get_profit():\n",
    "    nowd=fget_data('GOLD',110)\n",
    "    pos_info = mt5.positions_total()\n",
    "    if pos_info is None:\n",
    "        pass\n",
    "    elif pos_info>1:\n",
    "        for position in mt5.positions_get():\n",
    "            for position in mt5.positions_get():\n",
    "                if position.symbol.startswith('GOLD'):\n",
    "                    return position.profit"
   ]
  },
  {
   "cell_type": "code",
   "execution_count": null,
   "metadata": {},
   "outputs": [],
   "source": [
    "columns = ['ticket', 'order', 'time', 'time_msc', 'type', 'entry', 'magic', 'position_id', 'reason', 'volume', 'price', 'commission', 'swap', 'profit', 'fee', 'symbol', 'comment', 'external_id']\n",
    "\n",
    "# Create a pandas DataFrame\n",
    "df = pd.DataFrame(history_deals, columns=columns)\n",
    "df.drop(index=0, inplace=True)\n",
    "df"
   ]
  },
  {
   "cell_type": "code",
   "execution_count": null,
   "metadata": {},
   "outputs": [],
   "source": [
    "df['time'] = pd.to_datetime(df['time'])\n"
   ]
  },
  {
   "cell_type": "code",
   "execution_count": 6,
   "metadata": {},
   "outputs": [],
   "source": [
    "from pymongo import MongoClient\n",
    "client = MongoClient()"
   ]
  },
  {
   "cell_type": "code",
   "execution_count": 7,
   "metadata": {},
   "outputs": [],
   "source": [
    "db = client[\"agent_1\"]"
   ]
  },
  {
   "cell_type": "code",
   "execution_count": 9,
   "metadata": {},
   "outputs": [],
   "source": [
    "import random\n",
    "\n",
    "# Generate a random 6-digit number\n",
    "code = random.randint(100000, 999999)\n",
    "\n"
   ]
  },
  {
   "cell_type": "code",
   "execution_count": 10,
   "metadata": {},
   "outputs": [],
   "source": [
    "def initialize_agent_data(initial_balance):\n",
    "    agent_collection = db[\"agent_client_data\"]\n",
    "    \n",
    "    if agent_collection.find_one() is None:\n",
    "        if initial_balance ==0 or initial_balance is None:\n",
    "            #send message to input balance\n",
    "            pass\n",
    "        else:\n",
    "            agent_activation_date = datetime.datetime.now()\n",
    "            defaultlotsize=0.01\n",
    "            defaultdeviation=1\n",
    "            app_code=random.randint(100000, 999999)\n",
    "            defaultcomment=\"agent_1 D.N.G\"\n",
    "            post = {\"agent_activation_date\": agent_activation_date, \"defaultlotsize\": defaultlotsize, \"defaultdeviation\": defaultdeviation, \"defaultcomment\": defaultcomment,'appcode':app_code}\n",
    "            agent_collection.insert_one(post)\n",
    "            parameters_collection = db[\"agent_parameters\"]\n",
    "            default_maxdistance=1.5\n",
    "            default_activationtime=\"03:00\"\n",
    "            default_stoptime=\"16:30\"\n",
    "            default_profit=5\n",
    "            default_slwindow=2\n",
    "            default_candlesize=1.5\n",
    "            parameter_post = {\"appcode\":app_code,\"default_maxdistance\": default_maxdistance, \"default_activationtime\": default_activationtime, \"default_stoptime\": default_stoptime, \"default_profit\": default_profit, \"default_slwindow\": default_slwindow, \"default_candlesize\": default_candlesize,'initial_balance':initial_balance}\n",
    "            parameters_collection.insert_one(parameter_post)\n",
    "    \n",
    "                \n"
   ]
  },
  {
   "cell_type": "code",
   "execution_count": 13,
   "metadata": {},
   "outputs": [],
   "source": [
    "initialize_agent_data(get_balance())"
   ]
  },
  {
   "cell_type": "code",
   "execution_count": 11,
   "metadata": {},
   "outputs": [],
   "source": [
    "agent_activation_date=datetime.datetime(2024, 1, 1)#agent_data['agent_activation_date']\n",
    "todays_date=datetime.datetime.now()\n",
    "# mt5.history_orders_get(agent_activation_date, todays_date, symbol=symbol)\n"
   ]
  },
  {
   "cell_type": "code",
   "execution_count": 29,
   "metadata": {},
   "outputs": [],
   "source": [
    "def generate_profitdata(act_time,todays_date,symbol='GOLD'):\n",
    "    hd=fget_data('GOLD',110)\n",
    "    trade_history=mt5.history_deals_get(act_time, todays_date, symbol=symbol)\n",
    "    if trade_history is None:\n",
    "        return None\n",
    "    else:\n",
    "        columns = ['ticket', 'order', 'time', 'time_msc', 'type', 'entry', 'magic', 'position_id', 'reason', 'volume', 'price', 'commission', 'swap', 'profit', 'fee', 'symbol', 'comment', 'external_id']\n",
    "\n",
    "        # Create a pandas DataFrame\n",
    "        df = pd.DataFrame(trade_history, columns=columns)\n",
    "        return df"
   ]
  },
  {
   "cell_type": "code",
   "execution_count": 30,
   "metadata": {},
   "outputs": [],
   "source": [
    "def generate_timedata(act_time,todays_date,symbol='GOLD'):\n",
    "    hd=fget_data('GOLD',110)\n",
    "    trade_history=mt5.history_orders_get(act_time, todays_date, symbol=symbol)\n",
    "    if trade_history is None:\n",
    "        return None\n",
    "    else:\n",
    "        data = {\n",
    "            \"ticket\": [order.ticket for order in trade_history],\n",
    "            \"time_setup\": [order.time_setup for order in trade_history],\n",
    "            \"time_setup_msc\": [order.time_setup_msc for order in trade_history],\n",
    "            \"time_done\": [order.time_done for order in trade_history],\n",
    "            \"time_done_msc\": [order.time_done_msc for order in trade_history],\n",
    "            \"time_expiration\": [order.time_expiration for order in trade_history],\n",
    "            \"type\": [order.type for order in trade_history],\n",
    "            \"type_time\": [order.type_time for order in trade_history],\n",
    "            \"type_filling\": [order.type_filling for order in trade_history],\n",
    "            \"state\": [order.state for order in trade_history],\n",
    "            \"magic\": [order.magic for order in trade_history],\n",
    "            \"position_id\": [order.position_id for order in trade_history],\n",
    "            \"position_by_id\": [order.position_by_id for order in trade_history],\n",
    "            \"reason\": [order.reason for order in trade_history],\n",
    "            \"volume_initial\": [order.volume_initial for order in trade_history],\n",
    "            \"volume_current\": [order.volume_current for order in trade_history],\n",
    "            \"price_open\": [order.price_open for order in trade_history],\n",
    "            \"sl\": [order.sl for order in trade_history],\n",
    "            \"tp\": [order.tp for order in trade_history],\n",
    "            \"price_current\": [order.price_current for order in trade_history],\n",
    "            \"price_stoplimit\": [order.price_stoplimit for order in trade_history],\n",
    "            \"symbol\": [order.symbol for order in trade_history],\n",
    "            \"comment\": [order.comment for order in trade_history],\n",
    "            \"external_id\": [order.external_id for order in trade_history],\n",
    "        }\n",
    "\n",
    "        # Creating DataFrame\n",
    "        df = pd.DataFrame(data)\n",
    "        return df\n"
   ]
  },
  {
   "cell_type": "code",
   "execution_count": 32,
   "metadata": {},
   "outputs": [],
   "source": [
    "# \n",
    "\n",
    "def make_newdata(df1,df2):\n",
    "    \n",
    "    new_df = pd.DataFrame(columns=['open_date', 'close_date', 'profit', 'ticket', 'lot_size','trade_type'])\n",
    "\n",
    "    rows_to_append = []\n",
    "\n",
    "    for _, i in df1.iterrows():\n",
    "        for _, j in df2.iterrows():\n",
    "            if i['order'] == j['ticket']:\n",
    "                if i['profit'] != 0.0:\n",
    "                    new_row = {\n",
    "                        'open_date': j['time_setup'],\n",
    "                        'close_date': j['time_done'],\n",
    "                        'profit': i['profit'],\n",
    "                        'ticket': i['ticket'],\n",
    "                        'lot_size': i['volume'],\n",
    "                        'trade_type': i[\"type\"]\n",
    "                    }\n",
    "                    rows_to_append.append(new_row)\n",
    "\n",
    "    new_df = pd.concat([new_df, pd.DataFrame(rows_to_append)], ignore_index=True)\n",
    "\n",
    "    return new_df"
   ]
  },
  {
   "cell_type": "code",
   "execution_count": 33,
   "metadata": {},
   "outputs": [],
   "source": [
    "def finished_data(act_time,todays_date):\n",
    "    profit_data=generate_profitdata(act_time,todays_date)\n",
    "    # print(profit_data)\n",
    "    time_data=generate_timedata(act_time,todays_date)\n",
    "    # print(time_data)\n",
    "    if profit_data is None or time_data is None:\n",
    "        return None\n",
    "    else:\n",
    "        final_data=make_newdata(profit_data,time_data)\n",
    "        return final_data"
   ]
  },
  {
   "cell_type": "code",
   "execution_count": 34,
   "metadata": {},
   "outputs": [],
   "source": [
    "def updatetrades():\n",
    "    agent_data=db.agent_client_data.find_one()\n",
    "    appcode=agent_data['appcode']\n",
    "    agent_activation_date=datetime.datetime(2024, 1, 1)#agent_data['agent_activation_date']\n",
    "    todays_date=datetime.datetime.now()\n",
    "    trade_history=finished_data(agent_activation_date,todays_date)\n",
    "    # print(trade_history)\n",
    "    # print(trade_history)    \n",
    "    if trade_history is None:\n",
    "        pass\n",
    "    else:\n",
    "        \n",
    "\n",
    "    # Create a pandas DataFrame\n",
    "        df = trade_history\n",
    "        df.drop(index=0, inplace=True)\n",
    "        df['open_date'] = pd.to_datetime(df['open_date'],unit='s')\n",
    "\n",
    "        trades_collection = db[\"trades\"]\n",
    "        for index, row in df.iterrows():\n",
    "            # print(row['ticket'])\n",
    "            trade_exist_check=trades_collection.find_one({\"ticket\":row['ticket']})\n",
    "            # print(trade_exist_check)\n",
    "            if trade_exist_check is None:\n",
    "                if row['trade_type']==0:\n",
    "                    row['trade_type']=\"Sell\"\n",
    "                elif row['trade_type']==1:\n",
    "                    row['trade_type']=\"Buy\"\n",
    "                # print('jjjj')\n",
    "                # open_time = datetime.datetime.fromtimestamp(row['time'])\n",
    "\n",
    "                post = {\"ticket\": row['ticket'], \"trade_open\":row['open_date'] ,\"profit\": row['profit'],\"lot_size\": row['lot_size'],\"appcode\":appcode,\"trade_type\":row['trade_type']}\n",
    "                trades_collection.insert_one(post)\n",
    "\n",
    "        \n",
    "\n",
    "\n",
    "\n"
   ]
  },
  {
   "cell_type": "code",
   "execution_count": null,
   "metadata": {},
   "outputs": [],
   "source": [
    "fg=db['trades']\n",
    "print(fg)\n",
    "j=fg.find_one({'ticket': '201052422'})\n",
    "print(j)\n"
   ]
  },
  {
   "cell_type": "code",
   "execution_count": 35,
   "metadata": {},
   "outputs": [
    {
     "name": "stderr",
     "output_type": "stream",
     "text": [
      "C:\\Users\\DELL\\AppData\\Local\\Temp\\ipykernel_18320\\3217958250.py:23: FutureWarning: The behavior of DataFrame concatenation with empty or all-NA entries is deprecated. In a future version, this will no longer exclude empty or all-NA columns when determining the result dtypes. To retain the old behavior, exclude the relevant entries before the concat operation.\n",
      "  new_df = pd.concat([new_df, pd.DataFrame(rows_to_append)], ignore_index=True)\n"
     ]
    }
   ],
   "source": [
    "updatetrades()"
   ]
  },
  {
   "cell_type": "code",
   "execution_count": null,
   "metadata": {},
   "outputs": [],
   "source": [
    "# start_date = datetime.datetime(2024, 1, 1)\n",
    "# end_date = datetime.datetime(2024, 2, 1)  # Note: We're including February 1st to cover the entire month of January\n",
    "\n",
    "# Construct the query to find documents within the specified date range\n",
    "# query = {\"trade_open\": {\"$gte\": start_date, \"$lt\": end_date}}\n",
    "\n",
    "# for i in ttt:\n",
    "    # print(i)"
   ]
  },
  {
   "cell_type": "code",
   "execution_count": null,
   "metadata": {},
   "outputs": [],
   "source": [
    "ttt=db.trades.find()\n",
    "df_ttt = pd.DataFrame(ttt)\n",
    "# print(df_ttt)\n",
    "highest_profit = df_ttt['profit'].max()\n",
    "print(highest_profit)\n"
   ]
  },
  {
   "cell_type": "code",
   "execution_count": null,
   "metadata": {},
   "outputs": [],
   "source": [
    "def get_today_profit():\n",
    "    today_value=df_ttt[df_ttt['trade_open'].dt.date == datetime.date(2024, 2, 5)]#datetime.date.today()]\n",
    "    today_profit=today_value['profit'].sum()\n",
    "    return today_profit\n"
   ]
  },
  {
   "cell_type": "code",
   "execution_count": null,
   "metadata": {},
   "outputs": [],
   "source": [
    "def get_weekly_data():\n",
    "\n",
    "    # Get the current week's start and end dates\n",
    "    today = datetime.date.today()\n",
    "    start_of_week = today - datetime.timedelta(days=today.weekday())\n",
    "    end_of_week = start_of_week + datetime.timedelta(days=6)\n",
    "\n",
    "    # Filter the DataFrame to include values belonging to this week only\n",
    "    week_values = df_ttt[(df_ttt['trade_open'].dt.date >= start_of_week) & (df_ttt['trade_open'].dt.date <= end_of_week)]\n",
    "    week_values\n",
    "    profit_value=week_values['profit'].max()\n",
    "    loss_value=week_values['profit'].min()\n",
    "    lowest_profit_row = week_values.loc[week_values['profit'].idxmin()]\n",
    "    lowest_profit_datevalue=lowest_profit_row['trade_open']\n",
    "\n",
    "\n",
    "    highest_profit_row = week_values.loc[week_values['profit'].idxmax()]\n",
    "    highestprofit_datevalue=highest_profit_row['trade_open']\n",
    "    week_sell_values = week_values[week_values['trade_type'] == 'Sell']\n",
    "    week_sell_profit = week_sell_values['profit'].sum()\n",
    "    weeks_total_sells=len(week_sell_values)\n",
    "\n",
    "    week_buy_values = week_values[week_values['trade_type'] == 'Buy']\n",
    "    week_buy_profit = week_buy_values['profit'].sum()\n",
    "    weeks_total_buys=len(week_buy_values)\n",
    "    week_profitablebuys = week_values[(week_values['trade_type'] == 'Buy') & (week_values['profit'] > 0)]\n",
    "    week_buyprofit = week_buy_values['profit'].sum()\n",
    "    weeks_total_profitable_buys = len(week_buy_values)\n",
    "\n",
    "    week_profitablesells = week_values[(week_values['trade_type'] == 'Sell') & (week_values['profit'] > 0)]\n",
    "    week_sellprofit = week_sell_values['profit'].sum()\n",
    "    weeks_total_profitable_sells = len(week_sell_values)\n",
    "\n",
    "    week_buy_loss=week_values[(week_values['trade_type'] == 'Buy') & (week_values['profit'] < 0)]\n",
    "    week_buy_total_loss=week_buy_loss['profit'].sum()\n",
    "    week_totalbuy_loss=len(week_buy_loss)\n",
    "\n",
    "    week_sell_loss=week_values[(week_values['trade_type'] == 'Sell') & (week_values['profit'] < 0)]\n",
    "    \n",
    "    week_sell_total_loss=week_sell_loss['profit'].sum()\n",
    "    week_totalsell_loss=len(week_sell_loss)\n",
    "\n",
    "    return profit_value,loss_value,lowest_profit_datevalue,highestprofit_datevalue,week_sell_profit,weeks_total_sells,week_buy_profit,weeks_total_buys,week_buyprofit,weeks_total_profitable_buys,week_sellprofit,weeks_total_profitable_sells,week_buy_total_loss,week_totalbuy_loss,week_sell_total_loss,week_totalsell_loss\n",
    "\n"
   ]
  },
  {
   "cell_type": "code",
   "execution_count": null,
   "metadata": {},
   "outputs": [],
   "source": [
    "def get_monthly_data():\n",
    "\n",
    "# Get the current month's start and end dates\n",
    "    today = datetime.date.today()\n",
    "    start_of_month = datetime.date(today.year, today.month, 1)\n",
    "    end_of_month = datetime.date(today.year, today.month + 1, 1) - datetime.timedelta(days=1)\n",
    "\n",
    "    # Filter the DataFrame to include values belonging to this month only\n",
    "    this_month_values = df_ttt[(df_ttt['trade_open'].dt.date >= start_of_month) & (df_ttt['trade_open'].dt.date <= end_of_month)]\n",
    "\n",
    "    month_profit_value=this_month_values['profit'].max()\n",
    "    month_loss_value=this_month_values['profit'].min()\n",
    "\n",
    "    month_sell_values = this_month_values[this_month_values['trade_type'] == 'Sell']\n",
    "    month_sell_profit = month_sell_values['profit'].sum()\n",
    "    months_total_sells=len(month_sell_values)\n",
    "\n",
    "    month_buy_values = this_month_values[this_month_values['trade_type'] == 'Buy']\n",
    "    month_buy_profit = month_buy_values['profit'].sum()\n",
    "    months_total_buys=len(month_buy_values)\n",
    "\n",
    "    month_profitablebuys = this_month_values[(this_month_values['trade_type'] == 'Buy') & (this_month_values['profit'] > 0)]\n",
    "    month_buyprofit = month_buy_values['profit'].sum()\n",
    "    months_total_profitable_buys = len(month_buy_values)\n",
    "\n",
    "    month_profitablesells = this_month_values[(this_month_values['trade_type'] == 'Sell') & (this_month_values['profit'] > 0)]\n",
    "    month_sellprofit = month_sell_values['profit'].sum()\n",
    "    months_total_profitable_sells = len(month_sell_values)\n",
    "\n",
    "    month_buy_loss=this_month_values[(this_month_values['trade_type'] == 'Buy') & (this_month_values['profit'] < 0)]\n",
    "    month_buy_total_loss=month_buy_loss['profit'].sum()\n",
    "    month_totalbuy_loss=len(month_buy_loss)\n",
    "    \n",
    "    monthly_sell_loss=this_month_values[(this_month_values['trade_type'] == 'Sell') & (this_month_values['profit'] < 0)]\n",
    "    month_sell_total_loss=monthly_sell_loss['profit'].sum()\n",
    "    month_totalsell_loss=len(monthly_sell_loss)\n",
    "    \n",
    "    \n",
    "    return month_profit_value,month_loss_value,month_sell_profit,months_total_sells,month_buy_profit,months_total_buys,month_buy_total_loss,month_totalbuy_loss,month_sell_total_loss,month_totalsell_loss,month_buyprofit,months_total_profitable_buys,month_sellprofit,months_total_profitable_sells\n"
   ]
  }
 ],
 "metadata": {
  "kernelspec": {
   "display_name": "control",
   "language": "python",
   "name": "python3"
  },
  "language_info": {
   "codemirror_mode": {
    "name": "ipython",
    "version": 3
   },
   "file_extension": ".py",
   "mimetype": "text/x-python",
   "name": "python",
   "nbconvert_exporter": "python",
   "pygments_lexer": "ipython3",
   "version": "3.10.13"
  }
 },
 "nbformat": 4,
 "nbformat_minor": 2
}
